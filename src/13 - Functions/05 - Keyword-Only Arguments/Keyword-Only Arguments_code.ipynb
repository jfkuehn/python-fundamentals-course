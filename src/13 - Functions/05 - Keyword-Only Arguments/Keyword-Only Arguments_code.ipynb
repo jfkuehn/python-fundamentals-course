{
 "cells": [
  {
   "metadata": {},
   "cell_type": "markdown",
   "source": "### Keyword-Only Arguments",
   "id": "fcacd60c8d886da6"
  },
  {
   "metadata": {
    "ExecuteTime": {
     "end_time": "2025-01-18T12:05:22.669248Z",
     "start_time": "2025-01-18T12:05:22.666613Z"
    }
   },
   "cell_type": "code",
   "source": [
    "def func(a, b, *args, c):\n",
    "    print(a)\n",
    "    print(b)\n",
    "    print(args)  # args is a tuple\n",
    "    print(c)"
   ],
   "id": "9295466b99bafb82",
   "outputs": [],
   "execution_count": 19
  },
  {
   "metadata": {
    "ExecuteTime": {
     "end_time": "2025-01-18T12:05:22.682182Z",
     "start_time": "2025-01-18T12:05:22.680008Z"
    }
   },
   "cell_type": "code",
   "source": "func(10, 20, 30, 40, c=50)",
   "id": "88540ce73f105943",
   "outputs": [
    {
     "name": "stdout",
     "output_type": "stream",
     "text": [
      "10\n",
      "20\n",
      "(30, 40)\n",
      "50\n"
     ]
    }
   ],
   "execution_count": 20
  },
  {
   "metadata": {
    "ExecuteTime": {
     "end_time": "2025-01-18T12:05:22.707110Z",
     "start_time": "2025-01-18T12:05:22.704834Z"
    }
   },
   "cell_type": "code",
   "source": [
    "try:\n",
    "    func(10, 20, 30, 40, 50)\n",
    "except TypeError as e:\n",
    "    print(e)"
   ],
   "id": "4d005b730158c5a8",
   "outputs": [
    {
     "name": "stdout",
     "output_type": "stream",
     "text": [
      "func() missing 1 required keyword-only argument: 'c'\n"
     ]
    }
   ],
   "execution_count": 21
  },
  {
   "metadata": {
    "ExecuteTime": {
     "end_time": "2025-01-18T12:05:22.726554Z",
     "start_time": "2025-01-18T12:05:22.724750Z"
    }
   },
   "cell_type": "code",
   "source": [
    "def func(a, b, *, c):\n",
    "    print(a)\n",
    "    print(b)\n",
    "    print(c)"
   ],
   "id": "46c745dfef7cab5c",
   "outputs": [],
   "execution_count": 22
  },
  {
   "metadata": {
    "ExecuteTime": {
     "end_time": "2025-01-18T12:05:22.741622Z",
     "start_time": "2025-01-18T12:05:22.739756Z"
    }
   },
   "cell_type": "code",
   "source": "func(10, 20, c=30)",
   "id": "83af0e5a46fb6e51",
   "outputs": [
    {
     "name": "stdout",
     "output_type": "stream",
     "text": [
      "10\n",
      "20\n",
      "30\n"
     ]
    }
   ],
   "execution_count": 23
  },
  {
   "metadata": {
    "ExecuteTime": {
     "end_time": "2025-01-18T12:05:22.875530Z",
     "start_time": "2025-01-18T12:05:22.873466Z"
    }
   },
   "cell_type": "code",
   "source": "func(c=1, b=2, a=3)",
   "id": "f6bbbc15e0049661",
   "outputs": [
    {
     "name": "stdout",
     "output_type": "stream",
     "text": [
      "3\n",
      "2\n",
      "1\n"
     ]
    }
   ],
   "execution_count": 24
  },
  {
   "metadata": {
    "ExecuteTime": {
     "end_time": "2025-01-18T12:05:22.929864Z",
     "start_time": "2025-01-18T12:05:22.928212Z"
    }
   },
   "cell_type": "code",
   "source": [
    "def func(a, b=2, c=3, *, d=10, e, f=30):\n",
    "    print(a, b, c, d, e, f)"
   ],
   "id": "e05e32244506469b",
   "outputs": [],
   "execution_count": 25
  },
  {
   "metadata": {
    "ExecuteTime": {
     "end_time": "2025-01-18T12:05:22.958768Z",
     "start_time": "2025-01-18T12:05:22.956986Z"
    }
   },
   "cell_type": "code",
   "source": "func(1, e=20)",
   "id": "2447330bfe65bf93",
   "outputs": [
    {
     "name": "stdout",
     "output_type": "stream",
     "text": [
      "1 2 3 10 20 30\n"
     ]
    }
   ],
   "execution_count": 26
  },
  {
   "metadata": {
    "ExecuteTime": {
     "end_time": "2025-01-18T12:05:23.001656Z",
     "start_time": "2025-01-18T12:05:22.999748Z"
    }
   },
   "cell_type": "code",
   "source": "func(e=20, a=1)",
   "id": "aed039a9b793c67d",
   "outputs": [
    {
     "name": "stdout",
     "output_type": "stream",
     "text": [
      "1 2 3 10 20 30\n"
     ]
    }
   ],
   "execution_count": 27
  },
  {
   "metadata": {
    "ExecuteTime": {
     "end_time": "2025-01-18T12:05:23.023226Z",
     "start_time": "2025-01-18T12:05:23.021270Z"
    }
   },
   "cell_type": "code",
   "source": "func(1, c=3.5, d=100, e=200)",
   "id": "694af8db7a3aa34f",
   "outputs": [
    {
     "name": "stdout",
     "output_type": "stream",
     "text": [
      "1 2 3.5 100 200 30\n"
     ]
    }
   ],
   "execution_count": 28
  },
  {
   "metadata": {
    "ExecuteTime": {
     "end_time": "2025-01-18T12:05:23.067935Z",
     "start_time": "2025-01-18T12:05:23.065820Z"
    }
   },
   "cell_type": "code",
   "source": [
    "def process_data(data, item_sep=',', line_sep='\\n' ):\n",
    "    row_strings = [item_sep.join([str(element) for element in row]) for row in data]"
   ],
   "id": "eceb65b1e98a4cae",
   "outputs": [],
   "execution_count": 29
  },
  {
   "metadata": {
    "ExecuteTime": {
     "end_time": "2025-01-18T12:05:23.082288Z",
     "start_time": "2025-01-18T12:05:23.080628Z"
    }
   },
   "cell_type": "code",
   "source": "",
   "id": "47152f575cae531d",
   "outputs": [],
   "execution_count": null
  }
 ],
 "metadata": {
  "kernelspec": {
   "display_name": "Python 3",
   "language": "python",
   "name": "python3"
  },
  "language_info": {
   "codemirror_mode": {
    "name": "ipython",
    "version": 2
   },
   "file_extension": ".py",
   "mimetype": "text/x-python",
   "name": "python",
   "nbconvert_exporter": "python",
   "pygments_lexer": "ipython2",
   "version": "2.7.6"
  }
 },
 "nbformat": 4,
 "nbformat_minor": 5
}
