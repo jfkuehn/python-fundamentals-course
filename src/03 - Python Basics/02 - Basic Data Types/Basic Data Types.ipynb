{
 "cells": [
  {
   "metadata": {},
   "cell_type": "markdown",
   "source": "Basic Data Types",
   "id": "43e0899e55f9a16"
  },
  {
   "metadata": {
    "ExecuteTime": {
     "end_time": "2024-06-11T09:24:39.350467Z",
     "start_time": "2024-06-11T09:24:39.348785Z"
    }
   },
   "cell_type": "code",
   "source": "",
   "id": "825d164a7b8d8e9e",
   "outputs": [],
   "execution_count": null
  },
  {
   "metadata": {
    "ExecuteTime": {
     "end_time": "2024-06-11T09:24:39.365150Z",
     "start_time": "2024-06-11T09:24:39.360892Z"
    }
   },
   "cell_type": "code",
   "source": "1",
   "id": "8f39faa34d3858e3",
   "outputs": [
    {
     "data": {
      "text/plain": [
       "1"
      ]
     },
     "execution_count": 1,
     "metadata": {},
     "output_type": "execute_result"
    }
   ],
   "execution_count": 1
  },
  {
   "metadata": {
    "ExecuteTime": {
     "end_time": "2024-06-11T09:24:39.369063Z",
     "start_time": "2024-06-11T09:24:39.366245Z"
    }
   },
   "cell_type": "code",
   "source": "-10",
   "id": "794be9a1bc7aede4",
   "outputs": [
    {
     "data": {
      "text/plain": [
       "-10"
      ]
     },
     "execution_count": 2,
     "metadata": {},
     "output_type": "execute_result"
    }
   ],
   "execution_count": 2
  },
  {
   "metadata": {
    "ExecuteTime": {
     "end_time": "2024-06-11T09:24:39.377972Z",
     "start_time": "2024-06-11T09:24:39.375600Z"
    }
   },
   "cell_type": "code",
   "source": "1.0",
   "id": "816cfcbb31d4d45f",
   "outputs": [
    {
     "data": {
      "text/plain": [
       "1.0"
      ]
     },
     "execution_count": 3,
     "metadata": {},
     "output_type": "execute_result"
    }
   ],
   "execution_count": 3
  },
  {
   "metadata": {
    "ExecuteTime": {
     "end_time": "2024-06-11T09:24:39.388983Z",
     "start_time": "2024-06-11T09:24:39.386474Z"
    }
   },
   "cell_type": "code",
   "source": "-10.5",
   "id": "219588e16972cc64",
   "outputs": [
    {
     "data": {
      "text/plain": [
       "-10.5"
      ]
     },
     "execution_count": 4,
     "metadata": {},
     "output_type": "execute_result"
    }
   ],
   "execution_count": 4
  },
  {
   "metadata": {
    "ExecuteTime": {
     "end_time": "2024-06-11T09:24:39.427674Z",
     "start_time": "2024-06-11T09:24:39.425181Z"
    }
   },
   "cell_type": "code",
   "source": "True",
   "id": "3ab2e2ab98ec4496",
   "outputs": [
    {
     "data": {
      "text/plain": [
       "True"
      ]
     },
     "execution_count": 5,
     "metadata": {},
     "output_type": "execute_result"
    }
   ],
   "execution_count": 5
  },
  {
   "metadata": {
    "ExecuteTime": {
     "end_time": "2024-06-11T09:24:39.442107Z",
     "start_time": "2024-06-11T09:24:39.439571Z"
    }
   },
   "cell_type": "code",
   "source": "False",
   "id": "ea1ea912d297e2c1",
   "outputs": [
    {
     "data": {
      "text/plain": [
       "False"
      ]
     },
     "execution_count": 6,
     "metadata": {},
     "output_type": "execute_result"
    }
   ],
   "execution_count": 6
  },
  {
   "metadata": {
    "ExecuteTime": {
     "end_time": "2024-06-11T09:24:39.446491Z",
     "start_time": "2024-06-11T09:24:39.444554Z"
    }
   },
   "cell_type": "code",
   "source": "0.1",
   "id": "93518385f7cfbb93",
   "outputs": [
    {
     "data": {
      "text/plain": [
       "0.1"
      ]
     },
     "execution_count": 7,
     "metadata": {},
     "output_type": "execute_result"
    }
   ],
   "execution_count": 7
  },
  {
   "metadata": {},
   "cell_type": "markdown",
   "source": "We have to be a bit careful! The output we are seeing here is Python's string representation (any output to the terminal is a string - a bunch of characters) - not the actual internal value.",
   "id": "cc7c93019e49de7f"
  },
  {
   "metadata": {},
   "cell_type": "markdown",
   "source": "To fix this, we are going to use the format function (we'll explain functions later) to specify the number of digits we want after the decimal point in the display:",
   "id": "fd8e7162828793a1"
  },
  {
   "metadata": {
    "ExecuteTime": {
     "end_time": "2024-06-11T09:24:39.487045Z",
     "start_time": "2024-06-11T09:24:39.484768Z"
    }
   },
   "cell_type": "code",
   "source": "format(0.1, '.25f')",
   "id": "be8c77d04b5ab4c8",
   "outputs": [
    {
     "data": {
      "text/plain": [
       "'0.1000000000000000055511151'"
      ]
     },
     "execution_count": 8,
     "metadata": {},
     "output_type": "execute_result"
    }
   ],
   "execution_count": 8
  },
  {
   "metadata": {
    "ExecuteTime": {
     "end_time": "2024-06-11T09:24:39.510407Z",
     "start_time": "2024-06-11T09:24:39.507852Z"
    }
   },
   "cell_type": "code",
   "source": "1 + 1 + 1 == 3",
   "id": "5b2999f02f222e0d",
   "outputs": [
    {
     "data": {
      "text/plain": [
       "True"
      ]
     },
     "execution_count": 9,
     "metadata": {},
     "output_type": "execute_result"
    }
   ],
   "execution_count": 9
  },
  {
   "metadata": {
    "ExecuteTime": {
     "end_time": "2024-06-11T09:24:39.681198Z",
     "start_time": "2024-06-11T09:24:39.572274Z"
    }
   },
   "cell_type": "code",
   "source": [
    "from numpy import array\n",
    "from numpy.linalg import inv\n",
    "\n",
    "a = array([[3, -1], [1,0]])\n",
    "b = array([2, 4])\n",
    "x = inv(a).dot(b)\n",
    "print(x)"
   ],
   "id": "a9db6042cb06cfb5",
   "outputs": [
    {
     "ename": "ModuleNotFoundError",
     "evalue": "No module named 'numpy'",
     "output_type": "error",
     "traceback": [
      "\u001B[0;31m---------------------------------------------------------------------------\u001B[0m",
      "\u001B[0;31mModuleNotFoundError\u001B[0m                       Traceback (most recent call last)",
      "Cell \u001B[0;32mIn[10], line 1\u001B[0m\n\u001B[0;32m----> 1\u001B[0m \u001B[38;5;28;01mfrom\u001B[39;00m \u001B[38;5;21;01mnumpy\u001B[39;00m \u001B[38;5;28;01mimport\u001B[39;00m array\n\u001B[1;32m      2\u001B[0m \u001B[38;5;28;01mfrom\u001B[39;00m \u001B[38;5;21;01mnumpy\u001B[39;00m\u001B[38;5;21;01m.\u001B[39;00m\u001B[38;5;21;01mlinalg\u001B[39;00m \u001B[38;5;28;01mimport\u001B[39;00m inv\n\u001B[1;32m      4\u001B[0m a \u001B[38;5;241m=\u001B[39m array([[\u001B[38;5;241m3\u001B[39m, \u001B[38;5;241m-\u001B[39m\u001B[38;5;241m1\u001B[39m], [\u001B[38;5;241m1\u001B[39m,\u001B[38;5;241m0\u001B[39m]])\n",
      "\u001B[0;31mModuleNotFoundError\u001B[0m: No module named 'numpy'"
     ]
    }
   ],
   "execution_count": 10
  },
  {
   "metadata": {
    "ExecuteTime": {
     "end_time": "2024-06-11T09:24:39.682372Z",
     "start_time": "2024-06-11T09:24:39.682311Z"
    }
   },
   "cell_type": "code",
   "source": [
    "a = array([[3, -2], [2, -2]])\n",
    "b = array([7, 2])\n",
    "x = inv(a).dot(b)\n",
    "print(x)"
   ],
   "id": "708a4dd93af12be8",
   "outputs": [],
   "execution_count": null
  },
  {
   "metadata": {},
   "cell_type": "code",
   "source": [
    "a = array([[3, -2], [6, 3]])\n",
    "b = array([4, 15])\n",
    "x = inv(a).dot(b)\n",
    "print(x)"
   ],
   "id": "ad052e6e9a14506e",
   "outputs": [],
   "execution_count": null
  },
  {
   "metadata": {},
   "cell_type": "code",
   "source": [
    "a = array([[-2, 2], [5, 3]])\n",
    "b = array([20, 6])\n",
    "x = inv(a).dot(b)\n",
    "print(x)"
   ],
   "id": "dda7c01426fb2c87",
   "outputs": [],
   "execution_count": null
  },
  {
   "metadata": {},
   "cell_type": "code",
   "source": [
    "a = array([\n",
    "    [3, -2, 1],\n",
    "    [1, 1, 1],\n",
    "    [3, -2, -1]\n",
    "])\n",
    "b = array([7, 2, 3])\n",
    "x = inv(a).dot(b)\n",
    "print(x)"
   ],
   "id": "7e6d2219dd26b80f",
   "outputs": [],
   "execution_count": null
  },
  {
   "metadata": {},
   "cell_type": "code",
   "source": [
    "from sympy import *\n",
    "x = symbols('x')\n",
    "z = (x**2 + 1)**3 - 2\n",
    "dz_dx = diff(z, x)\n",
    "print(dz_dx)\n",
    "# 6*x*(x**2 + 1)**2"
   ],
   "id": "43d4e035d50faa5b",
   "outputs": [],
   "execution_count": null
  }
 ],
 "metadata": {
  "kernelspec": {
   "display_name": "Python 3",
   "language": "python",
   "name": "python3"
  },
  "language_info": {
   "codemirror_mode": {
    "name": "ipython",
    "version": 2
   },
   "file_extension": ".py",
   "mimetype": "text/x-python",
   "name": "python",
   "nbconvert_exporter": "python",
   "pygments_lexer": "ipython2",
   "version": "2.7.6"
  }
 },
 "nbformat": 4,
 "nbformat_minor": 5
}
