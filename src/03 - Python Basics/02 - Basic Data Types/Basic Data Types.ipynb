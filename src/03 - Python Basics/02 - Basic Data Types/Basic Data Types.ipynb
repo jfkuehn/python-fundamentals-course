{
 "cells": [
  {
   "metadata": {},
   "cell_type": "markdown",
   "source": "Basic Data Types",
   "id": "43e0899e55f9a16"
  },
  {
   "metadata": {
    "ExecuteTime": {
     "end_time": "2025-01-18T16:07:21.033386Z",
     "start_time": "2025-01-18T16:07:21.030103Z"
    }
   },
   "cell_type": "code",
   "source": "1  # Literal",
   "id": "bb137f5d98c5f65c",
   "outputs": [
    {
     "data": {
      "text/plain": [
       "1"
      ]
     },
     "execution_count": 102,
     "metadata": {},
     "output_type": "execute_result"
    }
   ],
   "execution_count": 102
  },
  {
   "metadata": {
    "ExecuteTime": {
     "end_time": "2025-01-18T16:07:21.057114Z",
     "start_time": "2025-01-18T16:07:21.054693Z"
    }
   },
   "cell_type": "code",
   "source": "-10",
   "id": "794be9a1bc7aede4",
   "outputs": [
    {
     "data": {
      "text/plain": [
       "-10"
      ]
     },
     "execution_count": 103,
     "metadata": {},
     "output_type": "execute_result"
    }
   ],
   "execution_count": 103
  },
  {
   "metadata": {
    "ExecuteTime": {
     "end_time": "2025-01-18T16:07:21.076864Z",
     "start_time": "2025-01-18T16:07:21.074593Z"
    }
   },
   "cell_type": "code",
   "source": "1.0",
   "id": "816cfcbb31d4d45f",
   "outputs": [
    {
     "data": {
      "text/plain": [
       "1.0"
      ]
     },
     "execution_count": 104,
     "metadata": {},
     "output_type": "execute_result"
    }
   ],
   "execution_count": 104
  },
  {
   "metadata": {
    "ExecuteTime": {
     "end_time": "2025-01-18T16:07:21.091450Z",
     "start_time": "2025-01-18T16:07:21.089153Z"
    }
   },
   "cell_type": "code",
   "source": "-10.5",
   "id": "219588e16972cc64",
   "outputs": [
    {
     "data": {
      "text/plain": [
       "-10.5"
      ]
     },
     "execution_count": 105,
     "metadata": {},
     "output_type": "execute_result"
    }
   ],
   "execution_count": 105
  },
  {
   "metadata": {
    "ExecuteTime": {
     "end_time": "2025-01-18T16:07:21.106243Z",
     "start_time": "2025-01-18T16:07:21.104026Z"
    }
   },
   "cell_type": "code",
   "source": "True",
   "id": "3ab2e2ab98ec4496",
   "outputs": [
    {
     "data": {
      "text/plain": [
       "True"
      ]
     },
     "execution_count": 106,
     "metadata": {},
     "output_type": "execute_result"
    }
   ],
   "execution_count": 106
  },
  {
   "metadata": {
    "ExecuteTime": {
     "end_time": "2025-01-18T16:07:21.118853Z",
     "start_time": "2025-01-18T16:07:21.116780Z"
    }
   },
   "cell_type": "code",
   "source": "False",
   "id": "ea1ea912d297e2c1",
   "outputs": [
    {
     "data": {
      "text/plain": [
       "False"
      ]
     },
     "execution_count": 107,
     "metadata": {},
     "output_type": "execute_result"
    }
   ],
   "execution_count": 107
  },
  {
   "metadata": {
    "ExecuteTime": {
     "end_time": "2025-01-18T16:07:21.131119Z",
     "start_time": "2025-01-18T16:07:21.129126Z"
    }
   },
   "cell_type": "code",
   "source": "0.1",
   "id": "93518385f7cfbb93",
   "outputs": [
    {
     "data": {
      "text/plain": [
       "0.1"
      ]
     },
     "execution_count": 108,
     "metadata": {},
     "output_type": "execute_result"
    }
   ],
   "execution_count": 108
  },
  {
   "metadata": {},
   "cell_type": "markdown",
   "source": "We have to be a bit careful! The output we are seeing here is Python's string representation (any output to the terminal is a string - a bunch of characters) - not the actual internal value.",
   "id": "cc7c93019e49de7f"
  },
  {
   "metadata": {},
   "cell_type": "markdown",
   "source": "To fix this, we are going to use the format function (we'll explain functions later) to specify the number of digits we want after the decimal point in the display:",
   "id": "fd8e7162828793a1"
  },
  {
   "metadata": {
    "ExecuteTime": {
     "end_time": "2025-01-18T16:07:21.143141Z",
     "start_time": "2025-01-18T16:07:21.140991Z"
    }
   },
   "cell_type": "code",
   "source": "format(0.1, '.25f')",
   "id": "be8c77d04b5ab4c8",
   "outputs": [
    {
     "data": {
      "text/plain": [
       "'0.1000000000000000055511151'"
      ]
     },
     "execution_count": 109,
     "metadata": {},
     "output_type": "execute_result"
    }
   ],
   "execution_count": 109
  },
  {
   "metadata": {
    "ExecuteTime": {
     "end_time": "2025-01-18T16:07:21.157235Z",
     "start_time": "2025-01-18T16:07:21.154808Z"
    }
   },
   "cell_type": "code",
   "source": "format(0.125, '.25f')",
   "id": "6996ee7cbd6e0a9d",
   "outputs": [
    {
     "data": {
      "text/plain": [
       "'0.1250000000000000000000000'"
      ]
     },
     "execution_count": 110,
     "metadata": {},
     "output_type": "execute_result"
    }
   ],
   "execution_count": 110
  },
  {
   "metadata": {
    "ExecuteTime": {
     "end_time": "2025-01-18T16:07:21.241042Z",
     "start_time": "2025-01-18T16:07:21.238663Z"
    }
   },
   "cell_type": "code",
   "source": "1 + 1 + 1 == 3  # check for equality",
   "id": "5b2999f02f222e0d",
   "outputs": [
    {
     "data": {
      "text/plain": [
       "True"
      ]
     },
     "execution_count": 111,
     "metadata": {},
     "output_type": "execute_result"
    }
   ],
   "execution_count": 111
  },
  {
   "metadata": {
    "ExecuteTime": {
     "end_time": "2025-01-18T16:07:21.325714Z",
     "start_time": "2025-01-18T16:07:21.323361Z"
    }
   },
   "cell_type": "code",
   "source": "0.125 + 0.125 + 0.125 == 0.375",
   "id": "540272c567ed9583",
   "outputs": [
    {
     "data": {
      "text/plain": [
       "True"
      ]
     },
     "execution_count": 112,
     "metadata": {},
     "output_type": "execute_result"
    }
   ],
   "execution_count": 112
  },
  {
   "metadata": {
    "ExecuteTime": {
     "end_time": "2025-01-18T16:07:21.380140Z",
     "start_time": "2025-01-18T16:07:21.377734Z"
    }
   },
   "cell_type": "code",
   "source": "0.1 + 0.1 + 0.1 == 0.3",
   "id": "e0779f26998a5828",
   "outputs": [
    {
     "data": {
      "text/plain": [
       "False"
      ]
     },
     "execution_count": 113,
     "metadata": {},
     "output_type": "execute_result"
    }
   ],
   "execution_count": 113
  },
  {
   "metadata": {
    "ExecuteTime": {
     "end_time": "2025-01-18T16:07:21.432520Z",
     "start_time": "2025-01-18T16:07:21.430098Z"
    }
   },
   "cell_type": "code",
   "source": "format(0.1 + 0.1 + 0.1, '.25f')",
   "id": "8fb832d901136cc4",
   "outputs": [
    {
     "data": {
      "text/plain": [
       "'0.3000000000000000444089210'"
      ]
     },
     "execution_count": 114,
     "metadata": {},
     "output_type": "execute_result"
    }
   ],
   "execution_count": 114
  },
  {
   "metadata": {
    "ExecuteTime": {
     "end_time": "2025-01-18T16:07:21.488273Z",
     "start_time": "2025-01-18T16:07:21.486064Z"
    }
   },
   "cell_type": "code",
   "source": "format(0.3, '.25f')",
   "id": "45451ad5a2e8766d",
   "outputs": [
    {
     "data": {
      "text/plain": [
       "'0.2999999999999999888977698'"
      ]
     },
     "execution_count": 115,
     "metadata": {},
     "output_type": "execute_result"
    }
   ],
   "execution_count": 115
  },
  {
   "metadata": {},
   "cell_type": "markdown",
   "source": "The internal representations are not exactly the same. Hence why using `==` evaluates to `False`. When dealing with `float` numbers, we should not, in general, use `==` - instead we should use some measure of closeness (within `0.01` for example).",
   "id": "98db45b5007f546"
  },
  {
   "metadata": {},
   "cell_type": "code",
   "outputs": [],
   "execution_count": null,
   "source": "",
   "id": "96aa0d08cc2dd6cb"
  }
 ],
 "metadata": {
  "kernelspec": {
   "display_name": "Python 3",
   "language": "python",
   "name": "python3"
  },
  "language_info": {
   "codemirror_mode": {
    "name": "ipython",
    "version": 2
   },
   "file_extension": ".py",
   "mimetype": "text/x-python",
   "name": "python",
   "nbconvert_exporter": "python",
   "pygments_lexer": "ipython2",
   "version": "2.7.6"
  }
 },
 "nbformat": 4,
 "nbformat_minor": 5
}
